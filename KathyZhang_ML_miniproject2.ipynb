{
 "cells": [
  {
   "cell_type": "markdown",
   "metadata": {},
   "source": [
    "# <font color='blue'> PPHA 30546 Machine Learning | Mini Project 2 Government Tax Audit </font> \n",
    "\n",
    "Kathy Zhang"
   ]
  },
  {
   "cell_type": "markdown",
   "metadata": {},
   "source": [
    "## 1. Motivation\n",
    "\n",
    "The capacity of the government to collect taxes is pivotal to long-run economic growth because without tax revenue, the state cannot provide public goods. One way the government can increase tax revenue is by increasing the tax rate. Another way to increase tax revenue is by reducing the probability of successful tax evasion; as probability of success decreases, the incentive to cheat\n",
    "gets weaker. The government can reduce the probability of successful tax evasion by simply increasing the number of audits it performs. However, increasing the number of audits also increases government expenditure, which may offset the increase in tax revenue. Another way to reduce the probability of successful tax evasion is to better target audits. That is, the government can increase the probability of catching tax evasion by reducing the number of audits performed on firms that paid their taxes and increasing the number of audits performed on firms that evaded their taxes. How might the government go about such an effort? \n",
    "\n",
    "This is a prediction problem, so the government can approach this effort using the machine learning techniques we’re covering in class! For instance, one way the government can become more adept at going after firms that were dishonest on their taxes is by using a Linear Probability Model (LPM) or k-Nearest Neighbors (KNN). Firms that evade taxes might display similar characteristics, allowing the government to predict whether a firm has evaded taxes with a low classification error\n",
    "rate.\n",
    "\n",
    "The dataset you’ll use for this project contains information on firms that the government of India suspected of tax evasion and subsequently the Comptroller and Auditor General (CAG) of India performed audits on. Table 1 contains the variable names and their definitions. The outcome variable is whether the auditor found that the firm evaded taxes as a result of the audit (Risk). The predictors include various quantitative measures about the firms.\n"
   ]
  },
  {
   "cell_type": "code",
   "execution_count": 1,
   "metadata": {
    "ExecuteTime": {
     "end_time": "2024-01-16T02:10:13.296809Z",
     "start_time": "2024-01-16T02:10:10.114201Z"
    },
    "slideshow": {
     "slide_type": "slide"
    }
   },
   "outputs": [],
   "source": [
    "# Import the libraries\n",
    "import numpy as np\n",
    "import pandas as pd\n",
    "import seaborn as sns\n",
    "import matplotlib.pyplot as plt\n",
    "import statsmodels.formula.api as smf\n",
    "from statsmodels.formula.api import ols\n",
    "from sklearn.preprocessing import MinMaxScaler\n",
    "from sklearn.linear_model import LinearRegression\n",
    "from sklearn.neighbors import KNeighborsClassifier\n",
    "from sklearn.model_selection import GridSearchCV, KFold\n",
    "from sklearn.model_selection import cross_validate\n",
    "from sklearn.preprocessing import StandardScaler\n",
    "from sklearn.linear_model import LogisticRegression\n",
    "from sklearn.naive_bayes import GaussianNB\n",
    "from sklearn.discriminant_analysis import LinearDiscriminantAnalysis\n",
    "from sklearn.discriminant_analysis import QuadraticDiscriminantAnalysis\n",
    "from sklearn.metrics import mean_absolute_error, r2_score, mean_squared_error\n",
    "from sklearn.metrics import accuracy_score, precision_score, confusion_matrix, roc_curve\n",
    "from sklearn.model_selection import train_test_split\n",
    "from sympy import symbols, Eq, solve, exp\n",
    "\n",
    "from IPython.display import Image\n",
    "from IPython.core.display import HTML \n",
    "\n",
    "import warnings\n",
    "warnings.filterwarnings('ignore')"
   ]
  },
  {
   "cell_type": "markdown",
   "metadata": {},
   "source": [
    "## 2. Forest-for-the-Trees Questions\n",
    "\n",
    "### 1. Since it’s important to use theory/intuition/common sense in concert with our data driven approaches, what factors do you suspect will affect the true, underlying model of whether or not a firm will commit tax evasion? Briefly explain.\n",
    "\n",
    "This is an open-ended question designed to get you to think about the task at hand in general. You are not limited to the list of available predictors in answering this question."
   ]
  },
  {
   "cell_type": "markdown",
   "metadata": {},
   "source": [
    "<font color='blue'> Based on my experience to detect fraud risks of public comps, there are so many ways to whitewash the financial statement. I believe that the underlying causes of these discrepancies can be attributed to sector-specific risks, variances between projected and actual expenditures, and certain characteristics of firms that facilitate tax evasion. Factors such as risk assessments and historical auditing data may serve as indicators of these foundational issues.\n",
    "\n",
    "<font color='blue'> 1. Discrepancies on the financial statements: Significant deviations between budgeted and actual spending can elevate financial vulnerabilities. Moreover, the risk escalates when there is an unexplained substantial increase in a company's stock and revenue within a single year (compare yoy growth).\n",
    "\n",
    "<font color='blue'> 2. Public indicator: If the firm is public, it may be exposed to higher risks of evading taxes and getting caught, while private firms may face little regulations.\n",
    "\n",
    "<font color='blue'> 3. Sector-specific risk: Certain industries are more prone to tax evasion strategies, indicating a heightened level of risk inherent to those sectors. Macroeconomic conditions also affect industries differently.\n",
    "\n",
    "<font color='blue'> 4. Unmatching revenue growth compared to competitors: Discrepancies in operational and financial performance compared to industry benchmarks—such as growth rates, gross margins, and liquidity ratios—requires scrutiny.\n",
    "\n",
    "<font color='blue'> 5. Historical audit/risk assessment: A good indicator for future risks."
   ]
  },
  {
   "cell_type": "markdown",
   "metadata": {},
   "source": [
    "### 2. Assume that in addition to some combination of the predictors listed in Table 1, the interaction of two predictor variables also enters the true model. If the appropriate interaction is not explicitly included as a predictor in the fitted model, what advantage does KNN enjoy over the LPM if the interaction is indeed important to the true relationship?"
   ]
  },
  {
   "cell_type": "markdown",
   "metadata": {},
   "source": [
    "<font color='blue'> LPM is a linear parametric model that one must explicitly feed interaction terms for these nuanced relationships to be noticed, resulting in bias if not added. However, KNN is a non-parametric model that does not assume a specific form for the relationship between predictors and the outcome, being more flexible. It estimates f(x0) using the average of all the training responses in N0. This approach allows KNN to naturally account for complex interactions between predictors without the need to explicitly model these interactions, which improves accuracy and reduces bias when the true relationship includs the interaction. Also, using KNN, we do not need to sacrifice TN for TP and vice versa."
   ]
  },
  {
   "cell_type": "markdown",
   "metadata": {},
   "source": [
    "## 3 Data Analysis\n",
    "\n",
    "### 3. Split the sample set into a training set and a validation set. Use the training set to fit a linear probability model (LPM). Apply the model to the second half of the data to predict the probability a firm cheated.\n",
    "\n",
    "Please use a 50/50 training/validation set split and set random_state=13."
   ]
  },
  {
   "cell_type": "markdown",
   "metadata": {},
   "source": [
    "### <font color='blue'>  Preprossing\n",
    "\n",
    "<font color='blue'>  We only have one N/A value under `Money_Value` column, but by examining descripive statistics, I believe it would be the best to remove this row considering how spread out money values are with std = 66.6 to be filled in with any values. \n",
    "\n",
    "<font color='blue'>  By checking data types, all variables are floats so we can use the standard scalar.\n",
    "\n"
   ]
  },
  {
   "cell_type": "code",
   "execution_count": 2,
   "metadata": {},
   "outputs": [
    {
     "name": "stdout",
     "output_type": "stream",
     "text": [
      "(776, 11)\n"
     ]
    },
    {
     "data": {
      "text/html": [
       "<div>\n",
       "<style scoped>\n",
       "    .dataframe tbody tr th:only-of-type {\n",
       "        vertical-align: middle;\n",
       "    }\n",
       "\n",
       "    .dataframe tbody tr th {\n",
       "        vertical-align: top;\n",
       "    }\n",
       "\n",
       "    .dataframe thead th {\n",
       "        text-align: right;\n",
       "    }\n",
       "</style>\n",
       "<table border=\"1\" class=\"dataframe\">\n",
       "  <thead>\n",
       "    <tr style=\"text-align: right;\">\n",
       "      <th></th>\n",
       "      <th>Sector_score</th>\n",
       "      <th>PARA_A</th>\n",
       "      <th>Risk_A</th>\n",
       "      <th>PARA_B</th>\n",
       "      <th>Risk_B</th>\n",
       "      <th>Money_Value</th>\n",
       "      <th>Risk_D</th>\n",
       "      <th>Score</th>\n",
       "      <th>Inherent_Risk</th>\n",
       "      <th>Audit_Risk</th>\n",
       "      <th>Risk</th>\n",
       "    </tr>\n",
       "  </thead>\n",
       "  <tbody>\n",
       "    <tr>\n",
       "      <th>0</th>\n",
       "      <td>3.89</td>\n",
       "      <td>4.18</td>\n",
       "      <td>2.508</td>\n",
       "      <td>2.50</td>\n",
       "      <td>0.500</td>\n",
       "      <td>3.38</td>\n",
       "      <td>0.676</td>\n",
       "      <td>2.4</td>\n",
       "      <td>8.574</td>\n",
       "      <td>1.7148</td>\n",
       "      <td>1</td>\n",
       "    </tr>\n",
       "    <tr>\n",
       "      <th>1</th>\n",
       "      <td>3.89</td>\n",
       "      <td>0.00</td>\n",
       "      <td>0.000</td>\n",
       "      <td>4.83</td>\n",
       "      <td>0.966</td>\n",
       "      <td>0.94</td>\n",
       "      <td>0.188</td>\n",
       "      <td>2.0</td>\n",
       "      <td>2.554</td>\n",
       "      <td>0.5108</td>\n",
       "      <td>0</td>\n",
       "    </tr>\n",
       "    <tr>\n",
       "      <th>2</th>\n",
       "      <td>3.89</td>\n",
       "      <td>0.51</td>\n",
       "      <td>0.102</td>\n",
       "      <td>0.23</td>\n",
       "      <td>0.046</td>\n",
       "      <td>0.00</td>\n",
       "      <td>0.000</td>\n",
       "      <td>2.0</td>\n",
       "      <td>1.548</td>\n",
       "      <td>0.3096</td>\n",
       "      <td>0</td>\n",
       "    </tr>\n",
       "    <tr>\n",
       "      <th>3</th>\n",
       "      <td>3.89</td>\n",
       "      <td>0.00</td>\n",
       "      <td>0.000</td>\n",
       "      <td>10.80</td>\n",
       "      <td>6.480</td>\n",
       "      <td>11.75</td>\n",
       "      <td>7.050</td>\n",
       "      <td>4.4</td>\n",
       "      <td>17.530</td>\n",
       "      <td>3.5060</td>\n",
       "      <td>1</td>\n",
       "    </tr>\n",
       "    <tr>\n",
       "      <th>4</th>\n",
       "      <td>3.89</td>\n",
       "      <td>0.00</td>\n",
       "      <td>0.000</td>\n",
       "      <td>0.08</td>\n",
       "      <td>0.016</td>\n",
       "      <td>0.00</td>\n",
       "      <td>0.000</td>\n",
       "      <td>2.0</td>\n",
       "      <td>1.416</td>\n",
       "      <td>0.2832</td>\n",
       "      <td>0</td>\n",
       "    </tr>\n",
       "  </tbody>\n",
       "</table>\n",
       "</div>"
      ],
      "text/plain": [
       "   Sector_score  PARA_A  Risk_A  PARA_B  Risk_B  Money_Value  Risk_D  Score  \\\n",
       "0          3.89    4.18   2.508    2.50   0.500         3.38   0.676    2.4   \n",
       "1          3.89    0.00   0.000    4.83   0.966         0.94   0.188    2.0   \n",
       "2          3.89    0.51   0.102    0.23   0.046         0.00   0.000    2.0   \n",
       "3          3.89    0.00   0.000   10.80   6.480        11.75   7.050    4.4   \n",
       "4          3.89    0.00   0.000    0.08   0.016         0.00   0.000    2.0   \n",
       "\n",
       "   Inherent_Risk  Audit_Risk  Risk  \n",
       "0          8.574      1.7148     1  \n",
       "1          2.554      0.5108     0  \n",
       "2          1.548      0.3096     0  \n",
       "3         17.530      3.5060     1  \n",
       "4          1.416      0.2832     0  "
      ]
     },
     "execution_count": 2,
     "metadata": {},
     "output_type": "execute_result"
    }
   ],
   "source": [
    "# Read in the data\n",
    "audit = pd.read_csv('data//Data-Audit.csv')\n",
    "print(audit.shape)\n",
    "audit.head()"
   ]
  },
  {
   "cell_type": "code",
   "execution_count": 3,
   "metadata": {},
   "outputs": [
    {
     "data": {
      "text/html": [
       "<div>\n",
       "<style scoped>\n",
       "    .dataframe tbody tr th:only-of-type {\n",
       "        vertical-align: middle;\n",
       "    }\n",
       "\n",
       "    .dataframe tbody tr th {\n",
       "        vertical-align: top;\n",
       "    }\n",
       "\n",
       "    .dataframe thead th {\n",
       "        text-align: right;\n",
       "    }\n",
       "</style>\n",
       "<table border=\"1\" class=\"dataframe\">\n",
       "  <thead>\n",
       "    <tr style=\"text-align: right;\">\n",
       "      <th></th>\n",
       "      <th>Sector_score</th>\n",
       "      <th>PARA_A</th>\n",
       "      <th>Risk_A</th>\n",
       "      <th>PARA_B</th>\n",
       "      <th>Risk_B</th>\n",
       "      <th>Money_Value</th>\n",
       "      <th>Risk_D</th>\n",
       "      <th>Score</th>\n",
       "      <th>Inherent_Risk</th>\n",
       "      <th>Audit_Risk</th>\n",
       "      <th>Risk</th>\n",
       "    </tr>\n",
       "  </thead>\n",
       "  <tbody>\n",
       "    <tr>\n",
       "      <th>count</th>\n",
       "      <td>776.000000</td>\n",
       "      <td>776.000000</td>\n",
       "      <td>776.000000</td>\n",
       "      <td>776.000000</td>\n",
       "      <td>776.000000</td>\n",
       "      <td>775.000000</td>\n",
       "      <td>776.000000</td>\n",
       "      <td>776.000000</td>\n",
       "      <td>776.000000</td>\n",
       "      <td>776.000000</td>\n",
       "      <td>776.000000</td>\n",
       "    </tr>\n",
       "    <tr>\n",
       "      <th>mean</th>\n",
       "      <td>20.184536</td>\n",
       "      <td>2.450194</td>\n",
       "      <td>1.351029</td>\n",
       "      <td>10.799988</td>\n",
       "      <td>6.334008</td>\n",
       "      <td>14.137631</td>\n",
       "      <td>8.265434</td>\n",
       "      <td>2.702577</td>\n",
       "      <td>17.680612</td>\n",
       "      <td>7.168158</td>\n",
       "      <td>0.393041</td>\n",
       "    </tr>\n",
       "    <tr>\n",
       "      <th>std</th>\n",
       "      <td>24.319017</td>\n",
       "      <td>5.678870</td>\n",
       "      <td>3.440447</td>\n",
       "      <td>50.083624</td>\n",
       "      <td>30.072845</td>\n",
       "      <td>66.606519</td>\n",
       "      <td>39.970849</td>\n",
       "      <td>0.858923</td>\n",
       "      <td>54.740244</td>\n",
       "      <td>38.667494</td>\n",
       "      <td>0.488741</td>\n",
       "    </tr>\n",
       "    <tr>\n",
       "      <th>min</th>\n",
       "      <td>1.850000</td>\n",
       "      <td>0.000000</td>\n",
       "      <td>0.000000</td>\n",
       "      <td>0.000000</td>\n",
       "      <td>0.000000</td>\n",
       "      <td>0.000000</td>\n",
       "      <td>0.000000</td>\n",
       "      <td>2.000000</td>\n",
       "      <td>1.400000</td>\n",
       "      <td>0.280000</td>\n",
       "      <td>0.000000</td>\n",
       "    </tr>\n",
       "    <tr>\n",
       "      <th>25%</th>\n",
       "      <td>2.370000</td>\n",
       "      <td>0.210000</td>\n",
       "      <td>0.042000</td>\n",
       "      <td>0.000000</td>\n",
       "      <td>0.000000</td>\n",
       "      <td>0.000000</td>\n",
       "      <td>0.000000</td>\n",
       "      <td>2.000000</td>\n",
       "      <td>1.583500</td>\n",
       "      <td>0.316700</td>\n",
       "      <td>0.000000</td>\n",
       "    </tr>\n",
       "    <tr>\n",
       "      <th>50%</th>\n",
       "      <td>3.890000</td>\n",
       "      <td>0.875000</td>\n",
       "      <td>0.175000</td>\n",
       "      <td>0.405000</td>\n",
       "      <td>0.081000</td>\n",
       "      <td>0.090000</td>\n",
       "      <td>0.018000</td>\n",
       "      <td>2.400000</td>\n",
       "      <td>2.214000</td>\n",
       "      <td>0.555600</td>\n",
       "      <td>0.000000</td>\n",
       "    </tr>\n",
       "    <tr>\n",
       "      <th>75%</th>\n",
       "      <td>55.570000</td>\n",
       "      <td>2.480000</td>\n",
       "      <td>1.488000</td>\n",
       "      <td>4.160000</td>\n",
       "      <td>1.840500</td>\n",
       "      <td>5.595000</td>\n",
       "      <td>2.235000</td>\n",
       "      <td>3.250000</td>\n",
       "      <td>10.663500</td>\n",
       "      <td>3.249900</td>\n",
       "      <td>1.000000</td>\n",
       "    </tr>\n",
       "    <tr>\n",
       "      <th>max</th>\n",
       "      <td>59.850000</td>\n",
       "      <td>85.000000</td>\n",
       "      <td>51.000000</td>\n",
       "      <td>1264.630000</td>\n",
       "      <td>758.778000</td>\n",
       "      <td>935.030000</td>\n",
       "      <td>561.018000</td>\n",
       "      <td>5.200000</td>\n",
       "      <td>801.262000</td>\n",
       "      <td>961.514400</td>\n",
       "      <td>1.000000</td>\n",
       "    </tr>\n",
       "  </tbody>\n",
       "</table>\n",
       "</div>"
      ],
      "text/plain": [
       "       Sector_score      PARA_A      Risk_A       PARA_B      Risk_B  \\\n",
       "count    776.000000  776.000000  776.000000   776.000000  776.000000   \n",
       "mean      20.184536    2.450194    1.351029    10.799988    6.334008   \n",
       "std       24.319017    5.678870    3.440447    50.083624   30.072845   \n",
       "min        1.850000    0.000000    0.000000     0.000000    0.000000   \n",
       "25%        2.370000    0.210000    0.042000     0.000000    0.000000   \n",
       "50%        3.890000    0.875000    0.175000     0.405000    0.081000   \n",
       "75%       55.570000    2.480000    1.488000     4.160000    1.840500   \n",
       "max       59.850000   85.000000   51.000000  1264.630000  758.778000   \n",
       "\n",
       "       Money_Value      Risk_D       Score  Inherent_Risk  Audit_Risk  \\\n",
       "count   775.000000  776.000000  776.000000     776.000000  776.000000   \n",
       "mean     14.137631    8.265434    2.702577      17.680612    7.168158   \n",
       "std      66.606519   39.970849    0.858923      54.740244   38.667494   \n",
       "min       0.000000    0.000000    2.000000       1.400000    0.280000   \n",
       "25%       0.000000    0.000000    2.000000       1.583500    0.316700   \n",
       "50%       0.090000    0.018000    2.400000       2.214000    0.555600   \n",
       "75%       5.595000    2.235000    3.250000      10.663500    3.249900   \n",
       "max     935.030000  561.018000    5.200000     801.262000  961.514400   \n",
       "\n",
       "             Risk  \n",
       "count  776.000000  \n",
       "mean     0.393041  \n",
       "std      0.488741  \n",
       "min      0.000000  \n",
       "25%      0.000000  \n",
       "50%      0.000000  \n",
       "75%      1.000000  \n",
       "max      1.000000  "
      ]
     },
     "execution_count": 3,
     "metadata": {},
     "output_type": "execute_result"
    }
   ],
   "source": [
    "# Descriptive Statistics\n",
    "pd.set_option('display.max_columns', None) # no column will be hidden in output\n",
    "audit.describe()"
   ]
  },
  {
   "cell_type": "code",
   "execution_count": 4,
   "metadata": {},
   "outputs": [
    {
     "name": "stdout",
     "output_type": "stream",
     "text": [
      "               Count NAs\n",
      "Sector_score           0\n",
      "PARA_A                 0\n",
      "Risk_A                 0\n",
      "PARA_B                 0\n",
      "Risk_B                 0\n",
      "Money_Value            1\n",
      "Risk_D                 0\n",
      "Score                  0\n",
      "Inherent_Risk          0\n",
      "Audit_Risk             0\n",
      "Risk                   0\n"
     ]
    },
    {
     "data": {
      "text/html": [
       "<div>\n",
       "<style scoped>\n",
       "    .dataframe tbody tr th:only-of-type {\n",
       "        vertical-align: middle;\n",
       "    }\n",
       "\n",
       "    .dataframe tbody tr th {\n",
       "        vertical-align: top;\n",
       "    }\n",
       "\n",
       "    .dataframe thead th {\n",
       "        text-align: right;\n",
       "    }\n",
       "</style>\n",
       "<table border=\"1\" class=\"dataframe\">\n",
       "  <thead>\n",
       "    <tr style=\"text-align: right;\">\n",
       "      <th></th>\n",
       "      <th>Sector_score</th>\n",
       "      <th>PARA_A</th>\n",
       "      <th>Risk_A</th>\n",
       "      <th>PARA_B</th>\n",
       "      <th>Risk_B</th>\n",
       "      <th>Money_Value</th>\n",
       "      <th>Risk_D</th>\n",
       "      <th>Score</th>\n",
       "      <th>Inherent_Risk</th>\n",
       "      <th>Audit_Risk</th>\n",
       "      <th>Risk</th>\n",
       "    </tr>\n",
       "  </thead>\n",
       "  <tbody>\n",
       "    <tr>\n",
       "      <th>642</th>\n",
       "      <td>55.57</td>\n",
       "      <td>0.23</td>\n",
       "      <td>0.046</td>\n",
       "      <td>0.0</td>\n",
       "      <td>0.0</td>\n",
       "      <td>NaN</td>\n",
       "      <td>0.0</td>\n",
       "      <td>2.0</td>\n",
       "      <td>1.446</td>\n",
       "      <td>0.2892</td>\n",
       "      <td>0</td>\n",
       "    </tr>\n",
       "  </tbody>\n",
       "</table>\n",
       "</div>"
      ],
      "text/plain": [
       "     Sector_score  PARA_A  Risk_A  PARA_B  Risk_B  Money_Value  Risk_D  Score  \\\n",
       "642         55.57    0.23   0.046     0.0     0.0          NaN     0.0    2.0   \n",
       "\n",
       "     Inherent_Risk  Audit_Risk  Risk  \n",
       "642          1.446      0.2892     0  "
      ]
     },
     "execution_count": 4,
     "metadata": {},
     "output_type": "execute_result"
    }
   ],
   "source": [
    "# Check for missing values\n",
    "na_count = pd.DataFrame(np.sum(audit.isna(), axis = 0), columns = [\"Count NAs\"])\n",
    "print(na_count)\n",
    "audit[audit['Money_Value'].isna()]"
   ]
  },
  {
   "cell_type": "code",
   "execution_count": 5,
   "metadata": {},
   "outputs": [
    {
     "data": {
      "text/html": [
       "<div>\n",
       "<style scoped>\n",
       "    .dataframe tbody tr th:only-of-type {\n",
       "        vertical-align: middle;\n",
       "    }\n",
       "\n",
       "    .dataframe tbody tr th {\n",
       "        vertical-align: top;\n",
       "    }\n",
       "\n",
       "    .dataframe thead th {\n",
       "        text-align: right;\n",
       "    }\n",
       "</style>\n",
       "<table border=\"1\" class=\"dataframe\">\n",
       "  <thead>\n",
       "    <tr style=\"text-align: right;\">\n",
       "      <th></th>\n",
       "      <th>Count NAs</th>\n",
       "    </tr>\n",
       "  </thead>\n",
       "  <tbody>\n",
       "    <tr>\n",
       "      <th>Sector_score</th>\n",
       "      <td>0</td>\n",
       "    </tr>\n",
       "    <tr>\n",
       "      <th>PARA_A</th>\n",
       "      <td>0</td>\n",
       "    </tr>\n",
       "    <tr>\n",
       "      <th>Risk_A</th>\n",
       "      <td>0</td>\n",
       "    </tr>\n",
       "    <tr>\n",
       "      <th>PARA_B</th>\n",
       "      <td>0</td>\n",
       "    </tr>\n",
       "    <tr>\n",
       "      <th>Risk_B</th>\n",
       "      <td>0</td>\n",
       "    </tr>\n",
       "    <tr>\n",
       "      <th>Money_Value</th>\n",
       "      <td>0</td>\n",
       "    </tr>\n",
       "    <tr>\n",
       "      <th>Risk_D</th>\n",
       "      <td>0</td>\n",
       "    </tr>\n",
       "    <tr>\n",
       "      <th>Score</th>\n",
       "      <td>0</td>\n",
       "    </tr>\n",
       "    <tr>\n",
       "      <th>Inherent_Risk</th>\n",
       "      <td>0</td>\n",
       "    </tr>\n",
       "    <tr>\n",
       "      <th>Audit_Risk</th>\n",
       "      <td>0</td>\n",
       "    </tr>\n",
       "    <tr>\n",
       "      <th>Risk</th>\n",
       "      <td>0</td>\n",
       "    </tr>\n",
       "  </tbody>\n",
       "</table>\n",
       "</div>"
      ],
      "text/plain": [
       "               Count NAs\n",
       "Sector_score           0\n",
       "PARA_A                 0\n",
       "Risk_A                 0\n",
       "PARA_B                 0\n",
       "Risk_B                 0\n",
       "Money_Value            0\n",
       "Risk_D                 0\n",
       "Score                  0\n",
       "Inherent_Risk          0\n",
       "Audit_Risk             0\n",
       "Risk                   0"
      ]
     },
     "execution_count": 5,
     "metadata": {},
     "output_type": "execute_result"
    }
   ],
   "source": [
    "# Drop the NA value in Money_Value\n",
    "audit = audit[audit['Money_Value'].notna()]\n",
    "pd.DataFrame(np.sum(audit.isna(), axis = 0), columns = [\"Count NAs\"])"
   ]
  },
  {
   "cell_type": "code",
   "execution_count": 6,
   "metadata": {},
   "outputs": [
    {
     "data": {
      "text/html": [
       "<div>\n",
       "<style scoped>\n",
       "    .dataframe tbody tr th:only-of-type {\n",
       "        vertical-align: middle;\n",
       "    }\n",
       "\n",
       "    .dataframe tbody tr th {\n",
       "        vertical-align: top;\n",
       "    }\n",
       "\n",
       "    .dataframe thead th {\n",
       "        text-align: right;\n",
       "    }\n",
       "</style>\n",
       "<table border=\"1\" class=\"dataframe\">\n",
       "  <thead>\n",
       "    <tr style=\"text-align: right;\">\n",
       "      <th></th>\n",
       "      <th>Sector_score</th>\n",
       "      <th>PARA_A</th>\n",
       "      <th>Risk_A</th>\n",
       "      <th>PARA_B</th>\n",
       "      <th>Risk_B</th>\n",
       "      <th>Money_Value</th>\n",
       "      <th>Risk_D</th>\n",
       "      <th>Score</th>\n",
       "      <th>Inherent_Risk</th>\n",
       "      <th>Audit_Risk</th>\n",
       "    </tr>\n",
       "  </thead>\n",
       "  <tbody>\n",
       "    <tr>\n",
       "      <th>0</th>\n",
       "      <td>3.89</td>\n",
       "      <td>4.18</td>\n",
       "      <td>2.508</td>\n",
       "      <td>2.50</td>\n",
       "      <td>0.500</td>\n",
       "      <td>3.38</td>\n",
       "      <td>0.676</td>\n",
       "      <td>2.4</td>\n",
       "      <td>8.574</td>\n",
       "      <td>1.7148</td>\n",
       "    </tr>\n",
       "    <tr>\n",
       "      <th>1</th>\n",
       "      <td>3.89</td>\n",
       "      <td>0.00</td>\n",
       "      <td>0.000</td>\n",
       "      <td>4.83</td>\n",
       "      <td>0.966</td>\n",
       "      <td>0.94</td>\n",
       "      <td>0.188</td>\n",
       "      <td>2.0</td>\n",
       "      <td>2.554</td>\n",
       "      <td>0.5108</td>\n",
       "    </tr>\n",
       "    <tr>\n",
       "      <th>2</th>\n",
       "      <td>3.89</td>\n",
       "      <td>0.51</td>\n",
       "      <td>0.102</td>\n",
       "      <td>0.23</td>\n",
       "      <td>0.046</td>\n",
       "      <td>0.00</td>\n",
       "      <td>0.000</td>\n",
       "      <td>2.0</td>\n",
       "      <td>1.548</td>\n",
       "      <td>0.3096</td>\n",
       "    </tr>\n",
       "    <tr>\n",
       "      <th>3</th>\n",
       "      <td>3.89</td>\n",
       "      <td>0.00</td>\n",
       "      <td>0.000</td>\n",
       "      <td>10.80</td>\n",
       "      <td>6.480</td>\n",
       "      <td>11.75</td>\n",
       "      <td>7.050</td>\n",
       "      <td>4.4</td>\n",
       "      <td>17.530</td>\n",
       "      <td>3.5060</td>\n",
       "    </tr>\n",
       "    <tr>\n",
       "      <th>4</th>\n",
       "      <td>3.89</td>\n",
       "      <td>0.00</td>\n",
       "      <td>0.000</td>\n",
       "      <td>0.08</td>\n",
       "      <td>0.016</td>\n",
       "      <td>0.00</td>\n",
       "      <td>0.000</td>\n",
       "      <td>2.0</td>\n",
       "      <td>1.416</td>\n",
       "      <td>0.2832</td>\n",
       "    </tr>\n",
       "  </tbody>\n",
       "</table>\n",
       "</div>"
      ],
      "text/plain": [
       "   Sector_score  PARA_A  Risk_A  PARA_B  Risk_B  Money_Value  Risk_D  Score  \\\n",
       "0          3.89    4.18   2.508    2.50   0.500         3.38   0.676    2.4   \n",
       "1          3.89    0.00   0.000    4.83   0.966         0.94   0.188    2.0   \n",
       "2          3.89    0.51   0.102    0.23   0.046         0.00   0.000    2.0   \n",
       "3          3.89    0.00   0.000   10.80   6.480        11.75   7.050    4.4   \n",
       "4          3.89    0.00   0.000    0.08   0.016         0.00   0.000    2.0   \n",
       "\n",
       "   Inherent_Risk  Audit_Risk  \n",
       "0          8.574      1.7148  \n",
       "1          2.554      0.5108  \n",
       "2          1.548      0.3096  \n",
       "3         17.530      3.5060  \n",
       "4          1.416      0.2832  "
      ]
     },
     "metadata": {},
     "output_type": "display_data"
    },
    {
     "data": {
      "text/plain": [
       "0    1\n",
       "1    0\n",
       "2    0\n",
       "3    1\n",
       "4    0\n",
       "Name: Risk, dtype: int64"
      ]
     },
     "metadata": {},
     "output_type": "display_data"
    }
   ],
   "source": [
    "# Splitting data\n",
    "X = audit.drop(columns = ['Risk'])\n",
    "target = audit.loc[:,'Risk']\n",
    "display(X.head())\n",
    "display(target.head())"
   ]
  },
  {
   "cell_type": "code",
   "execution_count": 7,
   "metadata": {},
   "outputs": [
    {
     "data": {
      "text/plain": [
       "Sector_score     float64\n",
       "PARA_A           float64\n",
       "Risk_A           float64\n",
       "PARA_B           float64\n",
       "Risk_B           float64\n",
       "Money_Value      float64\n",
       "Risk_D           float64\n",
       "Score            float64\n",
       "Inherent_Risk    float64\n",
       "Audit_Risk       float64\n",
       "dtype: object"
      ]
     },
     "execution_count": 7,
     "metadata": {},
     "output_type": "execute_result"
    }
   ],
   "source": [
    "# Check data types\n",
    "X.dtypes  "
   ]
  },
  {
   "cell_type": "code",
   "execution_count": 8,
   "metadata": {},
   "outputs": [],
   "source": [
    "# Splitting testing and training data\n",
    "X_train, X_test, y_train, y_test = train_test_split(X, target, test_size=0.50, random_state=13)"
   ]
  },
  {
   "cell_type": "code",
   "execution_count": 9,
   "metadata": {},
   "outputs": [
    {
     "data": {
      "text/plain": [
       "array([0.93084416, 0.11823158, 0.12403531, 0.53915841, 0.25448992,\n",
       "       1.03733079, 0.92258489, 0.11778926, 0.56594786, 1.69933872])"
      ]
     },
     "execution_count": 9,
     "metadata": {},
     "output_type": "execute_result"
    }
   ],
   "source": [
    "# Fit the LPM\n",
    "model_lpm = LinearRegression(fit_intercept=True)\n",
    "model_lpm.fit(X_train, y_train)\n",
    "\n",
    "# Predict the labels on the test set\n",
    "y_pred_lpm = model_lpm.predict(X_test)\n",
    "\n",
    "# 10 first predictions\n",
    "y_pred_lpm[:10]"
   ]
  },
  {
   "cell_type": "markdown",
   "metadata": {},
   "source": [
    "### (a) For firms with a predicted probability of tax evasion greater than 0.5, construct the confusion matrix."
   ]
  },
  {
   "cell_type": "code",
   "execution_count": 10,
   "metadata": {},
   "outputs": [
    {
     "data": {
      "text/plain": [
       "array([1, 0, 0, 1, 0, 1, 1, 0, 1, 1])"
      ]
     },
     "execution_count": 10,
     "metadata": {},
     "output_type": "execute_result"
    }
   ],
   "source": [
    "# Continuous to binary predictions\n",
    "y_pred_lpm_bin_5 = np.where(y_pred_lpm > 0.5, 1, 0)\n",
    "y_pred_lpm_bin_5[:10]"
   ]
  },
  {
   "cell_type": "code",
   "execution_count": 11,
   "metadata": {},
   "outputs": [
    {
     "name": "stdout",
     "output_type": "stream",
     "text": [
      "[[221   8]\n",
      " [ 29 130]]\n",
      "[[0.9650655  0.0349345 ]\n",
      " [0.18238994 0.81761006]]\n"
     ]
    }
   ],
   "source": [
    "# Generate the condusion matrix\n",
    "cm_lpm_5 = confusion_matrix(y_test, y_pred_lpm_bin_5)\n",
    "cm_lpm_5_norm = confusion_matrix(y_test, y_pred_lpm_bin_5, normalize = 'true')\n",
    "print(cm_lpm_5)\n",
    "print(cm_lpm_5_norm)"
   ]
  },
  {
   "cell_type": "code",
   "execution_count": 12,
   "metadata": {},
   "outputs": [
    {
     "data": {
      "image/png": "[encoded data removed]",
      "text/plain": [
       "<Figure size 640x480 with 2 Axes>"
      ]
     },
     "metadata": {},
     "output_type": "display_data"
    }
   ],
   "source": [
    "# Draw the heatmap\n",
    "ax = sns.heatmap(cm_lpm_5_norm, annot=True, fmt='.2%', cmap='Blues')\n",
    "\n",
    "ax.set_title('LPM: Confusion Matrix with labels, threshold=0.5\\n')\n",
    "ax.set_xlabel('\\nPredicted Values')\n",
    "ax.set_ylabel('Actual Values')\n",
    "\n",
    "## Ticket labels - List must be in alphabetical order\n",
    "ax.xaxis.set_ticklabels(['False','True'])\n",
    "ax.yaxis.set_ticklabels(['False','True'])\n",
    "plt.show()"
   ]
  },
  {
   "cell_type": "markdown",
   "metadata": {},
   "source": [
    "### (b) For firms with a predicted probability of tax evasion greater than 0.6, construct the confusion matrix."
   ]
  },
  {
   "cell_type": "code",
   "execution_count": 13,
   "metadata": {},
   "outputs": [
    {
     "data": {
      "text/plain": [
       "array([1, 0, 0, 0, 0, 1, 1, 0, 0, 1])"
      ]
     },
     "execution_count": 13,
     "metadata": {},
     "output_type": "execute_result"
    }
   ],
   "source": [
    "# Continuous to binary predictions\n",
    "y_pred_lpm_bin_6 = np.where(y_pred_lpm > 0.6, 1, 0)\n",
    "y_pred_lpm_bin_6[:10]"
   ]
  },
  {
   "cell_type": "code",
   "execution_count": 14,
   "metadata": {},
   "outputs": [
    {
     "name": "stdout",
     "output_type": "stream",
     "text": [
      "[[225   4]\n",
      " [ 39 120]]\n",
      "[[0.98253275 0.01746725]\n",
      " [0.24528302 0.75471698]]\n"
     ]
    }
   ],
   "source": [
    "# Generate the condusion matrix\n",
    "cm_lpm_6 = confusion_matrix(y_test, y_pred_lpm_bin_6)\n",
    "cm_lpm_6_norm = confusion_matrix(y_test, y_pred_lpm_bin_6, normalize = 'true')\n",
    "print(cm_lpm_6)\n",
    "print(cm_lpm_6_norm)"
   ]
  },
  {
   "cell_type": "code",
   "execution_count": 30,
   "metadata": {},
   "outputs": [
    {
     "data": {
      "image/png": "[encoded data removed]",
      "text/plain": [
       "<Figure size 640x480 with 2 Axes>"
      ]
     },
     "metadata": {},
     "output_type": "display_data"
    }
   ],
   "source": [
    "# Draw the heatmap\n",
    "ax = sns.heatmap(cm_lpm_6_norm, annot=True, \n",
    "            fmt='.2%', cmap='Blues')\n",
    "\n",
    "ax.set_title('LPM: Confusion Matrix with labels, threshold=0.6\\n')\n",
    "ax.set_xlabel('\\nPredicted Values')\n",
    "ax.set_ylabel('Actual Values')\n",
    "\n",
    "## Ticket labels - List must be in alphabetical order\n",
    "ax.xaxis.set_ticklabels(['False','True'])\n",
    "ax.yaxis.set_ticklabels(['False','True'])\n",
    "plt.show()"
   ]
  },
  {
   "cell_type": "markdown",
   "metadata": {},
   "source": [
    "### (c) For each of the two thresholds, report the error rate. Which results in more accurate overall predictions?"
   ]
  },
  {
   "cell_type": "markdown",
   "metadata": {},
   "source": [
    "<font color='blue'>  Error rates for threshold = 0.5 is 9.54%, for threshold = 0.6 is 11.08%, so the lower threshold = 0.5 results in more accurate overall predictions. It is worth noticing that threshold = 0.6 better predict the False values.\n",
    "\n",
    "<font color='blue'> However, in terms of precision, 0.6 threshold gives a better precision of 96.77% > 94.2%. Precision measures the proportion of true positive predictions in all positive predictions made by the model. High precision means that the model is reliable in its positive predictions."
   ]
  },
  {
   "cell_type": "code",
   "execution_count": 16,
   "metadata": {},
   "outputs": [
    {
     "name": "stdout",
     "output_type": "stream",
     "text": [
      "LPM with 0.5 threshold accuracy: 90.46%\n",
      "LPM with 0.5 threshold error rate: 9.54%\n",
      "LPM with 0.6 threshold accuracy: 88.92%\n",
      "LPM with 0.6 threshold error rate: 11.08%\n",
      "LPM with 0.5 threshold precision: 94.19999999999999%\n",
      "LPM with 0.6 threshold precision: 96.77%\n"
     ]
    }
   ],
   "source": [
    "# Initialize accuracy tracking dictionary\n",
    "accuracies = {} \n",
    "\n",
    "# Compute the accuracy\n",
    "accuracies['LPM with 0.5 threshold'] = accuracy_score(y_test, y_pred_lpm_bin_5)\n",
    "accuracies['LPM with 0.6 threshold'] = accuracy_score(y_test, y_pred_lpm_bin_6)\n",
    "precision_lpm_5 = precision_score(y_test, y_pred_lpm_bin_5, zero_division=0)\n",
    "precision_lpm_6 = precision_score(y_test, y_pred_lpm_bin_6, zero_division=0)\n",
    "\n",
    "# Print the accuracies\n",
    "for model, accuracy in accuracies.items():\n",
    "    print(f'{model} accuracy: {round(accuracy, 4)*100}%')\n",
    "    print(f'{model} error rate: {round(1-accuracy, 4)*100}%')\n",
    "\n",
    "print(f'LPM with 0.5 threshold precision: {round(precision_lpm_5, 4)*100}%')\n",
    "print(f'LPM with 0.6 threshold precision: {round(precision_lpm_6, 4)*100}%')"
   ]
  },
  {
   "cell_type": "markdown",
   "metadata": {},
   "source": [
    "### (d) For each of the two thresholds, what proportion of the firms predicted to evade their taxes actually evaded taxes?"
   ]
  },
  {
   "cell_type": "markdown",
   "metadata": {},
   "source": [
    "<font color='blue'> For threshold = 0.5 and 0.6, 130/(130+8) = 94.2% and 120/(120+4) = 96.77% of the firms predicted to evade their taxes actually evaded taxes respectively."
   ]
  },
  {
   "cell_type": "markdown",
   "metadata": {},
   "source": [
    "### 4. In measuring performance in this context, should a false negative matter as much as a false positive? Briefly explain why or why not and how changing the threshold for classifying a firm as a tax evader (as in the previous question) affects this trade-off."
   ]
  },
  {
   "cell_type": "markdown",
   "metadata": {},
   "source": [
    "<font color='blue'> \n",
    "A false negative occurs when a model incorrectly predicts that a firm will not evade taxes when it does, which suggests a potential tax evader goes undetected, leading to lost revenue for the government and undermining the fairness of the tax system.\n",
    "\n",
    "A false positive occurs when a model incorrectly predicts that a firm will evade taxes when it does not, which could lead to unnecessary audits, wasting resources and potentially harming the reputation and operations of compliant firms.\n",
    "\n",
    "The relative cost of FNs and FPs is contingent upon policy objectives, leading to a trade-off. If the government aims to maximize tax revenue collection and discourage evasion, it might prioritize minimizing FNs, even at the risk of increasing FPs. Conversely, if minimizing disruption to compliant businesses is a priority, the government might seek to minimize FPs. \n",
    "\n",
    "In the context of preventing financial fraud and increasing tax revenue as the govenment aims, I believe that the impact of FNs outweighs that of FPs, as it is critical to prevent entities engaged in financial misconduct from evading tax obligations.\n",
    "\n",
    "The data derived from the confusion matrices illustrates this trade-off: as the threshold increases, FNs escalate from 18.24% to 24.53%, while FPs diminish from 3.49% to 1.75%. The higher the threshold, the lower the false positives since we raised the standard of being identified 1. Lowering threshold by 0.1 effectively reduced FN by 6.29 pp. Preferring a lower threshold aligns with valuing the reduction of FNs more highly, aiming to mitigate the risk of overlooking tax evasion."
   ]
  },
  {
   "cell_type": "markdown",
   "metadata": {},
   "source": [
    "### 5. Using the training set from the previous question, fit a KNN model with k = 5, then use it to predict outcomes in the validation set.\n",
    "\n",
    "### (a) Construct the confusion matrix."
   ]
  },
  {
   "cell_type": "code",
   "execution_count": 17,
   "metadata": {},
   "outputs": [
    {
     "data": {
      "text/plain": [
       "array([1, 0, 0, 1, 0, 1, 1, 0, 1, 1], dtype=int64)"
      ]
     },
     "execution_count": 17,
     "metadata": {},
     "output_type": "execute_result"
    }
   ],
   "source": [
    "# KNN with 5 neighbors\n",
    "model_knn = KNeighborsClassifier(n_neighbors = 5)\n",
    "model_knn.fit(X_train, y_train)\n",
    "\n",
    "# Predict the labels on the test set\n",
    "y_pred_knn = model_knn.predict(X_test)\n",
    "\n",
    "# 10 first predictions\n",
    "y_pred_knn[:10]"
   ]
  },
  {
   "cell_type": "code",
   "execution_count": 18,
   "metadata": {},
   "outputs": [
    {
     "name": "stdout",
     "output_type": "stream",
     "text": [
      "[[226   3]\n",
      " [ 11 148]]\n",
      "[[0.98689956 0.01310044]\n",
      " [0.06918239 0.93081761]]\n"
     ]
    }
   ],
   "source": [
    "cm_knn = confusion_matrix(y_test, y_pred_knn)\n",
    "cm_knn_norm = confusion_matrix(y_test, y_pred_knn, normalize = 'true')\n",
    "print(cm_knn)\n",
    "print(cm_knn_norm)"
   ]
  },
  {
   "cell_type": "code",
   "execution_count": 19,
   "metadata": {},
   "outputs": [
    {
     "data": {
      "image/png": "[encoded data removed]",
      "text/plain": [
       "<Figure size 640x480 with 2 Axes>"
      ]
     },
     "metadata": {},
     "output_type": "display_data"
    }
   ],
   "source": [
    "# Draw the heatmap\n",
    "ax = sns.heatmap(cm_knn_norm, annot=True, fmt='.2%', cmap='Blues')\n",
    "\n",
    "ax.set_title('KNN with K=5: Confusion Matrix with labels\\n');\n",
    "ax.set_xlabel('\\nPredicted Values')\n",
    "ax.set_ylabel('Actual Values ');\n",
    "\n",
    "## Ticket labels - List must be in alphabetical order\n",
    "ax.xaxis.set_ticklabels(['False','True'])\n",
    "ax.yaxis.set_ticklabels(['False','True'])\n",
    "plt.show()"
   ]
  },
  {
   "cell_type": "markdown",
   "metadata": {},
   "source": [
    "### (b) Report the error rate. How accurate are the overall predictions?"
   ]
  },
  {
   "cell_type": "markdown",
   "metadata": {},
   "source": [
    "<font color='blue'> The error rate is 3.61%, lower than both from the LPM. The accuracy is notably high, reaching 96.39%, with precision = 98%."
   ]
  },
  {
   "cell_type": "code",
   "execution_count": 20,
   "metadata": {},
   "outputs": [
    {
     "name": "stdout",
     "output_type": "stream",
     "text": [
      "LPM with 0.5 threshold accuracy: 90.46%\n",
      "LPM with 0.5 threshold error rate: 9.54%\n",
      "LPM with 0.6 threshold accuracy: 88.92%\n",
      "LPM with 0.6 threshold error rate: 11.08%\n",
      "KNN with K=5 accuracy: 96.39%\n",
      "KNN with K=5 error rate: 3.61%\n",
      "KNN with K=5 precision: 98.00999999999999%\n"
     ]
    }
   ],
   "source": [
    "# Compute the accuracy\n",
    "accuracies['KNN with K=5'] = accuracy_score(y_test, y_pred_knn)\n",
    "precision_knn = precision_score(y_test, y_pred_knn, zero_division=0)\n",
    "\n",
    "# Print the accuracies\n",
    "for model, accuracy in accuracies.items():\n",
    "    print(f'{model} accuracy: {round(accuracy, 4)*100}%')\n",
    "    print(f'{model} error rate: {round(1-accuracy, 4)*100}%')\n",
    "\n",
    "print(f'KNN with K=5 precision: {round(precision_knn, 4)*100}%')"
   ]
  },
  {
   "cell_type": "markdown",
   "metadata": {},
   "source": [
    "### (c) What proportion of the firms predicted to evade their taxes actually evaded taxes?"
   ]
  },
  {
   "cell_type": "markdown",
   "metadata": {},
   "source": [
    "<font color='blue'> Reading true positives from the confusion matrix, 148/(148+3) = 98.01% of the firms predicted to evade their taxes actually evaded taxes."
   ]
  },
  {
   "cell_type": "markdown",
   "metadata": {},
   "source": [
    "### 6. Repeat the previous question with k = 5 after normalizing the data.\n",
    "\n",
    "There are several ways to scale or normalize variables. Normalization here refers to scaling each attribute so that the mean is zero and the variance is 1. There is a trade-off between normalizing before splitting into training and validation sets or after. The former uses more precise estimates of the population mean and variance. The latter does not bring information from the validation set into the training set (which could result in inadvertent overfitting). Given the sample size in this question, you should normalize before splitting your data."
   ]
  },
  {
   "cell_type": "code",
   "execution_count": 21,
   "metadata": {},
   "outputs": [
    {
     "data": {
      "text/html": [
       "<div>\n",
       "<style scoped>\n",
       "    .dataframe tbody tr th:only-of-type {\n",
       "        vertical-align: middle;\n",
       "    }\n",
       "\n",
       "    .dataframe tbody tr th {\n",
       "        vertical-align: top;\n",
       "    }\n",
       "\n",
       "    .dataframe thead th {\n",
       "        text-align: right;\n",
       "    }\n",
       "</style>\n",
       "<table border=\"1\" class=\"dataframe\">\n",
       "  <thead>\n",
       "    <tr style=\"text-align: right;\">\n",
       "      <th></th>\n",
       "      <th>Sector_score</th>\n",
       "      <th>PARA_A</th>\n",
       "      <th>Risk_A</th>\n",
       "      <th>PARA_B</th>\n",
       "      <th>Risk_B</th>\n",
       "      <th>Money_Value</th>\n",
       "      <th>Risk_D</th>\n",
       "      <th>Score</th>\n",
       "      <th>Inherent_Risk</th>\n",
       "      <th>Audit_Risk</th>\n",
       "    </tr>\n",
       "  </thead>\n",
       "  <tbody>\n",
       "    <tr>\n",
       "      <th>0</th>\n",
       "      <td>-0.669071</td>\n",
       "      <td>0.304129</td>\n",
       "      <td>0.335827</td>\n",
       "      <td>-0.166006</td>\n",
       "      <td>-0.194273</td>\n",
       "      <td>-0.161614</td>\n",
       "      <td>-0.190146</td>\n",
       "      <td>-0.353484</td>\n",
       "      <td>-0.166753</td>\n",
       "      <td>-0.141265</td>\n",
       "    </tr>\n",
       "    <tr>\n",
       "      <th>1</th>\n",
       "      <td>-0.669071</td>\n",
       "      <td>-0.432005</td>\n",
       "      <td>-0.393216</td>\n",
       "      <td>-0.119482</td>\n",
       "      <td>-0.178777</td>\n",
       "      <td>-0.198271</td>\n",
       "      <td>-0.202356</td>\n",
       "      <td>-0.819385</td>\n",
       "      <td>-0.276733</td>\n",
       "      <td>-0.172402</td>\n",
       "    </tr>\n",
       "    <tr>\n",
       "      <th>2</th>\n",
       "      <td>-0.669071</td>\n",
       "      <td>-0.342190</td>\n",
       "      <td>-0.363566</td>\n",
       "      <td>-0.211331</td>\n",
       "      <td>-0.209370</td>\n",
       "      <td>-0.212393</td>\n",
       "      <td>-0.207059</td>\n",
       "      <td>-0.819385</td>\n",
       "      <td>-0.295112</td>\n",
       "      <td>-0.177606</td>\n",
       "    </tr>\n",
       "    <tr>\n",
       "      <th>3</th>\n",
       "      <td>-0.669071</td>\n",
       "      <td>-0.432005</td>\n",
       "      <td>-0.393216</td>\n",
       "      <td>-0.000278</td>\n",
       "      <td>0.004583</td>\n",
       "      <td>-0.035870</td>\n",
       "      <td>-0.030676</td>\n",
       "      <td>1.976022</td>\n",
       "      <td>-0.003134</td>\n",
       "      <td>-0.094940</td>\n",
       "    </tr>\n",
       "    <tr>\n",
       "      <th>4</th>\n",
       "      <td>-0.669071</td>\n",
       "      <td>-0.432005</td>\n",
       "      <td>-0.393216</td>\n",
       "      <td>-0.214326</td>\n",
       "      <td>-0.210368</td>\n",
       "      <td>-0.212393</td>\n",
       "      <td>-0.207059</td>\n",
       "      <td>-0.819385</td>\n",
       "      <td>-0.297523</td>\n",
       "      <td>-0.178289</td>\n",
       "    </tr>\n",
       "  </tbody>\n",
       "</table>\n",
       "</div>"
      ],
      "text/plain": [
       "   Sector_score    PARA_A    Risk_A    PARA_B    Risk_B  Money_Value  \\\n",
       "0     -0.669071  0.304129  0.335827 -0.166006 -0.194273    -0.161614   \n",
       "1     -0.669071 -0.432005 -0.393216 -0.119482 -0.178777    -0.198271   \n",
       "2     -0.669071 -0.342190 -0.363566 -0.211331 -0.209370    -0.212393   \n",
       "3     -0.669071 -0.432005 -0.393216 -0.000278  0.004583    -0.035870   \n",
       "4     -0.669071 -0.432005 -0.393216 -0.214326 -0.210368    -0.212393   \n",
       "\n",
       "     Risk_D     Score  Inherent_Risk  Audit_Risk  \n",
       "0 -0.190146 -0.353484      -0.166753   -0.141265  \n",
       "1 -0.202356 -0.819385      -0.276733   -0.172402  \n",
       "2 -0.207059 -0.819385      -0.295112   -0.177606  \n",
       "3 -0.030676  1.976022      -0.003134   -0.094940  \n",
       "4 -0.207059 -0.819385      -0.297523   -0.178289  "
      ]
     },
     "execution_count": 21,
     "metadata": {},
     "output_type": "execute_result"
    }
   ],
   "source": [
    "# Scale the data\n",
    "scaler = StandardScaler()\n",
    "X_scaled = scaler.fit_transform(X)\n",
    "cols = X.columns\n",
    "X_final = pd.DataFrame(X_scaled, columns=cols)\n",
    "X_final.head()"
   ]
  },
  {
   "cell_type": "code",
   "execution_count": 22,
   "metadata": {},
   "outputs": [
    {
     "data": {
      "text/html": [
       "<div>\n",
       "<style scoped>\n",
       "    .dataframe tbody tr th:only-of-type {\n",
       "        vertical-align: middle;\n",
       "    }\n",
       "\n",
       "    .dataframe tbody tr th {\n",
       "        vertical-align: top;\n",
       "    }\n",
       "\n",
       "    .dataframe thead th {\n",
       "        text-align: right;\n",
       "    }\n",
       "</style>\n",
       "<table border=\"1\" class=\"dataframe\">\n",
       "  <thead>\n",
       "    <tr style=\"text-align: right;\">\n",
       "      <th></th>\n",
       "      <th>Sector_score</th>\n",
       "      <th>PARA_A</th>\n",
       "      <th>Risk_A</th>\n",
       "      <th>PARA_B</th>\n",
       "      <th>Risk_B</th>\n",
       "      <th>Money_Value</th>\n",
       "      <th>Risk_D</th>\n",
       "      <th>Score</th>\n",
       "      <th>Inherent_Risk</th>\n",
       "      <th>Audit_Risk</th>\n",
       "    </tr>\n",
       "  </thead>\n",
       "  <tbody>\n",
       "    <tr>\n",
       "      <th>count</th>\n",
       "      <td>7.750000e+02</td>\n",
       "      <td>7.750000e+02</td>\n",
       "      <td>7.750000e+02</td>\n",
       "      <td>775.000000</td>\n",
       "      <td>775.000000</td>\n",
       "      <td>7.750000e+02</td>\n",
       "      <td>7.750000e+02</td>\n",
       "      <td>7.750000e+02</td>\n",
       "      <td>775.000000</td>\n",
       "      <td>7.750000e+02</td>\n",
       "    </tr>\n",
       "    <tr>\n",
       "      <th>mean</th>\n",
       "      <td>-2.933854e-16</td>\n",
       "      <td>2.750488e-17</td>\n",
       "      <td>9.168293e-18</td>\n",
       "      <td>0.000000</td>\n",
       "      <td>0.000000</td>\n",
       "      <td>9.168293e-18</td>\n",
       "      <td>9.168293e-18</td>\n",
       "      <td>2.200390e-16</td>\n",
       "      <td>0.000000</td>\n",
       "      <td>1.833659e-17</td>\n",
       "    </tr>\n",
       "    <tr>\n",
       "      <th>std</th>\n",
       "      <td>1.000646e+00</td>\n",
       "      <td>1.000646e+00</td>\n",
       "      <td>1.000646e+00</td>\n",
       "      <td>1.000646</td>\n",
       "      <td>1.000646</td>\n",
       "      <td>1.000646e+00</td>\n",
       "      <td>1.000646e+00</td>\n",
       "      <td>1.000646e+00</td>\n",
       "      <td>1.000646</td>\n",
       "      <td>1.000646e+00</td>\n",
       "    </tr>\n",
       "    <tr>\n",
       "      <th>min</th>\n",
       "      <td>-7.530708e-01</td>\n",
       "      <td>-4.320051e-01</td>\n",
       "      <td>-3.932159e-01</td>\n",
       "      <td>-0.215924</td>\n",
       "      <td>-0.210900</td>\n",
       "      <td>-2.123930e-01</td>\n",
       "      <td>-2.070591e-01</td>\n",
       "      <td>-8.193847e-01</td>\n",
       "      <td>-0.297815</td>\n",
       "      <td>-1.783714e-01</td>\n",
       "    </tr>\n",
       "    <tr>\n",
       "      <th>25%</th>\n",
       "      <td>-7.316591e-01</td>\n",
       "      <td>-3.950223e-01</td>\n",
       "      <td>-3.810070e-01</td>\n",
       "      <td>-0.215924</td>\n",
       "      <td>-0.210900</td>\n",
       "      <td>-2.123930e-01</td>\n",
       "      <td>-2.070591e-01</td>\n",
       "      <td>-8.193847e-01</td>\n",
       "      <td>-0.294454</td>\n",
       "      <td>-1.774197e-01</td>\n",
       "    </tr>\n",
       "    <tr>\n",
       "      <th>50%</th>\n",
       "      <td>-6.690709e-01</td>\n",
       "      <td>-2.770294e-01</td>\n",
       "      <td>-3.420550e-01</td>\n",
       "      <td>-0.207737</td>\n",
       "      <td>-0.208173</td>\n",
       "      <td>-2.110409e-01</td>\n",
       "      <td>-2.066088e-01</td>\n",
       "      <td>-3.534837e-01</td>\n",
       "      <td>-0.282944</td>\n",
       "      <td>-1.712335e-01</td>\n",
       "    </tr>\n",
       "    <tr>\n",
       "      <th>75%</th>\n",
       "      <td>1.458927e+00</td>\n",
       "      <td>4.744574e-03</td>\n",
       "      <td>3.932634e-02</td>\n",
       "      <td>-0.132860</td>\n",
       "      <td>-0.148151</td>\n",
       "      <td>-1.283380e-01</td>\n",
       "      <td>-1.510667e-01</td>\n",
       "      <td>6.947938e-01</td>\n",
       "      <td>-0.127858</td>\n",
       "      <td>-1.014939e-01</td>\n",
       "    </tr>\n",
       "    <tr>\n",
       "      <th>max</th>\n",
       "      <td>1.635163e+00</td>\n",
       "      <td>1.453724e+01</td>\n",
       "      <td>1.443182e+01</td>\n",
       "      <td>25.035204</td>\n",
       "      <td>25.021157</td>\n",
       "      <td>1.383479e+01</td>\n",
       "      <td>1.382901e+01</td>\n",
       "      <td>2.907824e+00</td>\n",
       "      <td>14.314970</td>\n",
       "      <td>2.468112e+01</td>\n",
       "    </tr>\n",
       "  </tbody>\n",
       "</table>\n",
       "</div>"
      ],
      "text/plain": [
       "       Sector_score        PARA_A        Risk_A      PARA_B      Risk_B  \\\n",
       "count  7.750000e+02  7.750000e+02  7.750000e+02  775.000000  775.000000   \n",
       "mean  -2.933854e-16  2.750488e-17  9.168293e-18    0.000000    0.000000   \n",
       "std    1.000646e+00  1.000646e+00  1.000646e+00    1.000646    1.000646   \n",
       "min   -7.530708e-01 -4.320051e-01 -3.932159e-01   -0.215924   -0.210900   \n",
       "25%   -7.316591e-01 -3.950223e-01 -3.810070e-01   -0.215924   -0.210900   \n",
       "50%   -6.690709e-01 -2.770294e-01 -3.420550e-01   -0.207737   -0.208173   \n",
       "75%    1.458927e+00  4.744574e-03  3.932634e-02   -0.132860   -0.148151   \n",
       "max    1.635163e+00  1.453724e+01  1.443182e+01   25.035204   25.021157   \n",
       "\n",
       "        Money_Value        Risk_D         Score  Inherent_Risk    Audit_Risk  \n",
       "count  7.750000e+02  7.750000e+02  7.750000e+02     775.000000  7.750000e+02  \n",
       "mean   9.168293e-18  9.168293e-18  2.200390e-16       0.000000  1.833659e-17  \n",
       "std    1.000646e+00  1.000646e+00  1.000646e+00       1.000646  1.000646e+00  \n",
       "min   -2.123930e-01 -2.070591e-01 -8.193847e-01      -0.297815 -1.783714e-01  \n",
       "25%   -2.123930e-01 -2.070591e-01 -8.193847e-01      -0.294454 -1.774197e-01  \n",
       "50%   -2.110409e-01 -2.066088e-01 -3.534837e-01      -0.282944 -1.712335e-01  \n",
       "75%   -1.283380e-01 -1.510667e-01  6.947938e-01      -0.127858 -1.014939e-01  \n",
       "max    1.383479e+01  1.382901e+01  2.907824e+00      14.314970  2.468112e+01  "
      ]
     },
     "execution_count": 22,
     "metadata": {},
     "output_type": "execute_result"
    }
   ],
   "source": [
    "# View the summary statistics table\n",
    "pd.set_option('display.max_columns', None) # no column will be hidden in output\n",
    "X_final.describe()"
   ]
  },
  {
   "cell_type": "code",
   "execution_count": 23,
   "metadata": {},
   "outputs": [],
   "source": [
    "# Splitting testing and training data\n",
    "X_train, X_test, y_train, y_test = train_test_split(X_final, target, test_size=0.50, random_state=13)"
   ]
  },
  {
   "cell_type": "code",
   "execution_count": 24,
   "metadata": {},
   "outputs": [
    {
     "data": {
      "text/plain": [
       "array([1, 0, 0, 0, 0, 1, 1, 0, 1, 1], dtype=int64)"
      ]
     },
     "execution_count": 24,
     "metadata": {},
     "output_type": "execute_result"
    }
   ],
   "source": [
    "# KNN with 5 neighbors\n",
    "model_knn = KNeighborsClassifier(n_neighbors = 5)\n",
    "model_knn.fit(X_train, y_train)\n",
    "\n",
    "# Predict the labels on the test set\n",
    "y_pred_knn = model_knn.predict(X_test)\n",
    "\n",
    "# 10 first predictions\n",
    "y_pred_knn[:10]"
   ]
  },
  {
   "cell_type": "markdown",
   "metadata": {},
   "source": [
    "### (a) Construct the confusion matrix."
   ]
  },
  {
   "cell_type": "code",
   "execution_count": 25,
   "metadata": {},
   "outputs": [
    {
     "name": "stdout",
     "output_type": "stream",
     "text": [
      "[[222   7]\n",
      " [ 15 144]]\n",
      "[[0.96943231 0.03056769]\n",
      " [0.09433962 0.90566038]]\n"
     ]
    }
   ],
   "source": [
    "cm_knn = confusion_matrix(y_test, y_pred_knn)\n",
    "cm_knn_norm = confusion_matrix(y_test, y_pred_knn, normalize = 'true')\n",
    "print(cm_knn)\n",
    "print(cm_knn_norm)"
   ]
  },
  {
   "cell_type": "code",
   "execution_count": 26,
   "metadata": {},
   "outputs": [
    {
     "data": {
      "image/png": "[encoded data removed]",
      "text/plain": [
       "<Figure size 640x480 with 2 Axes>"
      ]
     },
     "metadata": {},
     "output_type": "display_data"
    }
   ],
   "source": [
    "# Draw the heatmap\n",
    "ax = sns.heatmap(cm_knn_norm, annot=True, fmt='.2%', cmap='Blues')\n",
    "\n",
    "ax.set_title('Normalized KNN with K=5: Confusion Matrix with labels\\n');\n",
    "ax.set_xlabel('\\nPredicted Values')\n",
    "ax.set_ylabel('Actual Values ');\n",
    "\n",
    "## Ticket labels - List must be in alphabetical order\n",
    "ax.xaxis.set_ticklabels(['False','True'])\n",
    "ax.yaxis.set_ticklabels(['False','True'])\n",
    "plt.show()"
   ]
  },
  {
   "cell_type": "markdown",
   "metadata": {},
   "source": [
    "### (b) Report the error rate. How accurate are the overall predictions?"
   ]
  },
  {
   "cell_type": "markdown",
   "metadata": {},
   "source": [
    "<font color='blue'> The error rate is 5.67%, higher than that of the the non-normalized KNN. The accuracy is slightly lower, at 94.33%, precision at 95.36%."
   ]
  },
  {
   "cell_type": "code",
   "execution_count": 27,
   "metadata": {},
   "outputs": [
    {
     "name": "stdout",
     "output_type": "stream",
     "text": [
      "LPM with 0.5 threshold accuracy: 90.46%\n",
      "LPM with 0.5 threshold error rate: 9.54%\n",
      "LPM with 0.6 threshold accuracy: 88.92%\n",
      "LPM with 0.6 threshold error rate: 11.08%\n",
      "KNN with K=5 accuracy: 96.39%\n",
      "KNN with K=5 error rate: 3.61%\n",
      "Normalized KNN with K=5 accuracy: 94.33%\n",
      "Normalized KNN with K=5 error rate: 5.67%\n",
      "Normalized KNN with K=5 precision: 95.36%\n"
     ]
    }
   ],
   "source": [
    "# Compute the accuracy\n",
    "accuracies['Normalized KNN with K=5'] = accuracy_score(y_test, y_pred_knn)\n",
    "precision_knn_norm = precision_score(y_test, y_pred_knn, zero_division=0)\n",
    "\n",
    "# Print the accuracies\n",
    "for model, accuracy in accuracies.items():\n",
    "    print(f'{model} accuracy: {round(accuracy, 4)*100}%')\n",
    "    print(f'{model} error rate: {round(1-accuracy, 4)*100}%')\n",
    "\n",
    "print(f'Normalized KNN with K=5 precision: {round(precision_knn_norm, 4)*100}%')"
   ]
  },
  {
   "cell_type": "markdown",
   "metadata": {},
   "source": [
    "### (c) What proportion of the firms predicted to evade their taxes actually evaded taxes?"
   ]
  },
  {
   "cell_type": "markdown",
   "metadata": {},
   "source": [
    "<font color='blue'> Reading true positives from the confusion matrix, 90.57% of the firms predicted to evade their taxes actually evaded taxes."
   ]
  },
  {
   "cell_type": "markdown",
   "metadata": {},
   "source": [
    "### 7. Which KNN model performs better: with or without the predictors normalized? Briefly explain how you make this determination and why you think this is the case."
   ]
  },
  {
   "cell_type": "markdown",
   "metadata": {},
   "source": [
    "<font color='blue'> The KNN model without the predictors nomalized performs better in general with a error rate of 3.61%, accuracy of 96.39% and precision of 98%, with lower false negatives and lower false positives. In contrast, with normalization, KNN error rate increases to 5.67%, precision drops to 95.36%. It is noticeable that when using KNN in this case, KNN without normalization is better in reducing errors, increasing precision, reducing FP and FN, unlike using different thresholds for LPM."
   ]
  },
  {
   "cell_type": "markdown",
   "metadata": {},
   "source": [
    "### 8. For KNN, which k yields the lowest error rate? By 5-fold cross-validation (5FCV), find the k with the lowest classification error rate.\n",
    "\n",
    "Use the entire dataset for 5FCV, shuffle the data randomly for splitting, and set random_state=13. You do not need to normalize the data for this question."
   ]
  },
  {
   "cell_type": "markdown",
   "metadata": {},
   "source": [
    "<font color='blue'> k=1 gives the lowest classification error rate of 2.06%."
   ]
  },
  {
   "cell_type": "code",
   "execution_count": 28,
   "metadata": {},
   "outputs": [
    {
     "data": {
      "text/plain": [
       "27.83882181415011"
      ]
     },
     "execution_count": 28,
     "metadata": {},
     "output_type": "execute_result"
    }
   ],
   "source": [
    "# Approximate upper bound of k\n",
    "# Roughly the square-root of the number of samples in our training set\n",
    "np.sqrt(len(X))"
   ]
  },
  {
   "cell_type": "code",
   "execution_count": 29,
   "metadata": {},
   "outputs": [
    {
     "name": "stdout",
     "output_type": "stream",
     "text": [
      "Best parameters: {'n_neighbors': 1}\n",
      "Best cross-validation score: 97.94%\n",
      "Lowest classfication error rate: 2.06%\n"
     ]
    }
   ],
   "source": [
    "ks = list(range(1, 27))\n",
    "para = {'n_neighbors': ks}\n",
    "\n",
    "# Initialize the KNN classifier\n",
    "knni = KNeighborsClassifier()\n",
    "\n",
    "# Set up 5-fold cross-validation scheme\n",
    "knn_cv = GridSearchCV(knni, para, cv=KFold(5, random_state=13, shuffle=True), scoring='accuracy')\n",
    "\n",
    "# Fit the model\n",
    "knn_cv.fit(X, target)\n",
    "\n",
    "print(\"Best parameters:\", knn_cv.best_params_)\n",
    "print(\"Best cross-validation score:\", f'{round(knn_cv.best_score_, 4)*100}%')\n",
    "print(\"Lowest classfication error rate:\", f'{round(1-knn_cv.best_score_, 4)*100}%')"
   ]
  }
 ],
 "metadata": {
  "kernelspec": {
   "display_name": "Python 3 (ipykernel)",
   "language": "python",
   "name": "python3"
  },
  "language_info": {
   "codemirror_mode": {
    "name": "ipython",
    "version": 3
   },
   "file_extension": ".py",
   "mimetype": "text/x-python",
   "name": "python",
   "nbconvert_exporter": "python",
   "pygments_lexer": "ipython3",
   "version": "3.11.7"
  },
  "toc": {
   "base_numbering": 1,
   "nav_menu": {},
   "number_sections": true,
   "sideBar": true,
   "skip_h1_title": false,
   "title_cell": "Table of Contents",
   "title_sidebar": "Contents",
   "toc_cell": false,
   "toc_position": {},
   "toc_section_display": true,
   "toc_window_display": false
  },
  "vscode": {
   "interpreter": {
    "hash": "26de051ba29f2982a8de78e945f0abaf191376122a1563185a90213a26c5da77"
   }
  }
 },
 "nbformat": 4,
 "nbformat_minor": 4
}
